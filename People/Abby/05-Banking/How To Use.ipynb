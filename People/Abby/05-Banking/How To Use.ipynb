{
 "cells": [
  {
   "cell_type": "code",
   "execution_count": 1,
   "metadata": {},
   "outputs": [],
   "source": [
    "import transaction\n",
    "import datetime"
   ]
  },
  {
   "cell_type": "code",
   "execution_count": 2,
   "metadata": {},
   "outputs": [
    {
     "name": "stdout",
     "output_type": "stream",
     "text": [
      "~  ~~  ~  ~~  ~  ~~  ~  ~~  ~  ~~  ~\n",
      "Emergency Savings - 21871138\n",
      "\tAccount Type:   Savings\n",
      "\tAccount Holder: Abby Bishop\n",
      "~  ~~  ~  ~~  ~  ~~  ~  ~~  ~  ~~  ~\n",
      "  Current Balance: \n",
      "~  ~~  ~  ~~  ~  ~~  ~  ~~  ~  ~~  ~\n",
      "  Recent History: \n",
      "~  ~~  ~  ~~  ~  ~~  ~  ~~  ~  ~~  ~\n",
      "\n"
     ]
    }
   ],
   "source": [
    "# Create an empty Account\n",
    "myAcct = transaction.Acct(\n",
    "    {},                       # Balance (Dictionary)\n",
    "    'Emergency Savings',      # Name of Account\n",
    "    '21871138',               # Account Number\n",
    "    'Abby Bishop',            # Account Holder's Name\n",
    "    'Savings',                # Checking or Savings\n",
    "    []                        # Transaction History (list of Tr class)\n",
    ")\n",
    "myAcct.display()"
   ]
  },
  {
   "cell_type": "code",
   "execution_count": 3,
   "metadata": {},
   "outputs": [
    {
     "name": "stdout",
     "output_type": "stream",
     "text": [
      "~  ~~  ~  ~~  ~  ~~  ~  ~~  ~  ~~  ~\n",
      "Emergency Savings - 21871138\n",
      "\tAccount Type:   Savings\n",
      "\tAccount Holder: Abby Bishop\n",
      "~  ~~  ~  ~~  ~  ~~  ~  ~~  ~  ~~  ~\n",
      "  Current Balance: \n",
      "    USD 5\n",
      "~  ~~  ~  ~~  ~  ~~  ~  ~~  ~  ~~  ~\n",
      "  Recent History: \n",
      "    2020-07-14 09:59:52.318135: 5 USD \n",
      "\tTfrIn:  \n",
      "~  ~~  ~  ~~  ~  ~~  ~  ~~  ~  ~~  ~\n",
      "\n"
     ]
    }
   ],
   "source": [
    "# Transfer Money into Account\n",
    "\n",
    "myAcct.transaction(              # My Account\n",
    "    transaction.Tr(              # The Transaction class\n",
    "        5,                       # 5 Units (default: USD)\n",
    "        datetime.datetime.now()  # Transaction date: Now\n",
    "#        'USD',                   # Currency\n",
    "#        1,                       # Conversion Rate\n",
    "#        'My transaction'         # Description\n",
    "    ).tfr_in()                   # Specify its a transfer IN\n",
    ")\n",
    "myAcct.display()"
   ]
  },
  {
   "cell_type": "code",
   "execution_count": 4,
   "metadata": {},
   "outputs": [
    {
     "name": "stdout",
     "output_type": "stream",
     "text": [
      "~  ~~  ~  ~~  ~  ~~  ~  ~~  ~  ~~  ~\n",
      "Emergency Savings - 21871138\n",
      "\tAccount Type:   Savings\n",
      "\tAccount Holder: Abby Bishop\n",
      "~  ~~  ~  ~~  ~  ~~  ~  ~~  ~  ~~  ~\n",
      "  Current Balance: \n",
      "    USD 2\n",
      "~  ~~  ~  ~~  ~  ~~  ~  ~~  ~  ~~  ~\n",
      "  Recent History: \n",
      "    2020-07-14 10:00:11.858271: -3 USD \n",
      "\tTfrOut: \n",
      "    2020-07-14 09:59:52.318135: 5 USD \n",
      "\tTfrIn:  \n",
      "~  ~~  ~  ~~  ~  ~~  ~  ~~  ~  ~~  ~\n",
      "\n"
     ]
    }
   ],
   "source": [
    "# Transfer Money out of my Account\n",
    "\n",
    "myAcct.transaction(              # My Account\n",
    "    transaction.Tr(              # The Transaction class\n",
    "        3,                       # 5 Units (default: USD)\n",
    "        datetime.datetime.now()  # Transaction date: Now\n",
    "#        'USD',                   # Currency\n",
    "#        1,                       # Conversion Rate\n",
    "#        'My transaction'         # Description\n",
    "    ).tfr_out()                   # Specify its a transfer IN\n",
    ")\n",
    "myAcct.display()"
   ]
  },
  {
   "cell_type": "code",
   "execution_count": null,
   "metadata": {},
   "outputs": [],
   "source": []
  }
 ],
 "metadata": {
  "kernelspec": {
   "display_name": "Python 3",
   "language": "python",
   "name": "python3"
  },
  "language_info": {
   "codemirror_mode": {
    "name": "ipython",
    "version": 3
   },
   "file_extension": ".py",
   "mimetype": "text/x-python",
   "name": "python",
   "nbconvert_exporter": "python",
   "pygments_lexer": "ipython3",
   "version": "3.7.0"
  }
 },
 "nbformat": 4,
 "nbformat_minor": 2
}
